{
 "cells": [
  {
   "cell_type": "code",
   "execution_count": 70,
   "metadata": {},
   "outputs": [],
   "source": [
    "import pandas as pd\n",
    "import numpy as np"
   ]
  },
  {
   "cell_type": "code",
   "execution_count": 71,
   "metadata": {},
   "outputs": [],
   "source": [
    "s3_url = \"s3://genius-lyrics-dataset/merged_dataset.csv\"\n",
    "df = pd.read_csv(s3_url, encoding= 'ISO-8859-1')"
   ]
  },
  {
   "cell_type": "code",
   "execution_count": 72,
   "metadata": {},
   "outputs": [
    {
     "data": {
      "text/html": [
       "<div>\n",
       "<style scoped>\n",
       "    .dataframe tbody tr th:only-of-type {\n",
       "        vertical-align: middle;\n",
       "    }\n",
       "\n",
       "    .dataframe tbody tr th {\n",
       "        vertical-align: top;\n",
       "    }\n",
       "\n",
       "    .dataframe thead th {\n",
       "        text-align: right;\n",
       "    }\n",
       "</style>\n",
       "<table border=\"1\" class=\"dataframe\">\n",
       "  <thead>\n",
       "    <tr style=\"text-align: right;\">\n",
       "      <th></th>\n",
       "      <th>Unnamed: 0</th>\n",
       "      <th>title</th>\n",
       "      <th>image_text</th>\n",
       "      <th>selftext</th>\n",
       "      <th>author</th>\n",
       "      <th>subreddit</th>\n",
       "      <th>created_utc</th>\n",
       "      <th>upvote_ratio</th>\n",
       "      <th>num_comments</th>\n",
       "      <th>permalink</th>\n",
       "      <th>url</th>\n",
       "      <th>label</th>\n",
       "    </tr>\n",
       "  </thead>\n",
       "  <tbody>\n",
       "    <tr>\n",
       "      <th>0</th>\n",
       "      <td>0</td>\n",
       "      <td>Family of Armed Robbery Suspect Outraged Pizza...</td>\n",
       "      <td>Following the shooting death of 28-year-old ar...</td>\n",
       "      <td>NaN</td>\n",
       "      <td>NYPD-32</td>\n",
       "      <td>WhitePeopleTwitter</td>\n",
       "      <td>1480870334</td>\n",
       "      <td>0.68</td>\n",
       "      <td>21</td>\n",
       "      <td>/r/whitepeopletwitter/comments/5ggakpv/Family_...</td>\n",
       "      <td>https://www.reddit.com/r/whitepeopletwitter/co...</td>\n",
       "      <td>1</td>\n",
       "    </tr>\n",
       "    <tr>\n",
       "      <th>1</th>\n",
       "      <td>1</td>\n",
       "      <td>Hurricane Irma likely to drop to Category 4 up...</td>\n",
       "      <td>(Reuters) - Hurricane Irma is likely to be dow...</td>\n",
       "      <td>NaN</td>\n",
       "      <td>NYPD-32</td>\n",
       "      <td>fakenews</td>\n",
       "      <td>1480870334</td>\n",
       "      <td>0.67</td>\n",
       "      <td>21</td>\n",
       "      <td>/r/fakenews/comments/5ggakps/Hurricane_Irma_likel</td>\n",
       "      <td>https://www.reddit.com/r/fakenews/comments/5gg...</td>\n",
       "      <td>0</td>\n",
       "    </tr>\n",
       "    <tr>\n",
       "      <th>2</th>\n",
       "      <td>2</td>\n",
       "      <td>Factbox: Trump on Twitter (July 26) - U.S. Mil...</td>\n",
       "      <td>The following statementsÊwere posted to the ve...</td>\n",
       "      <td>NaN</td>\n",
       "      <td>NYPD-32</td>\n",
       "      <td>fakenews</td>\n",
       "      <td>1480870334</td>\n",
       "      <td>0.67</td>\n",
       "      <td>21</td>\n",
       "      <td>/r/fakenews/comments/5ggakpq/Factbox:_Trump_on_Tw</td>\n",
       "      <td>https://www.reddit.com/r/fakenews/comments/5gg...</td>\n",
       "      <td>0</td>\n",
       "    </tr>\n",
       "    <tr>\n",
       "      <th>3</th>\n",
       "      <td>3</td>\n",
       "      <td>Senior Saudi prince freed in settlement agreem...</td>\n",
       "      <td>DUBAI (Reuters) - Senior Saudi Prince Miteb bi...</td>\n",
       "      <td>NaN</td>\n",
       "      <td>NYPD-32</td>\n",
       "      <td>fakenews</td>\n",
       "      <td>1480870334</td>\n",
       "      <td>0.68</td>\n",
       "      <td>21</td>\n",
       "      <td>/r/fakenews/comments/5ggakpn/Senior_Saudi_prince_</td>\n",
       "      <td>https://www.reddit.com/r/fakenews/comments/5gg...</td>\n",
       "      <td>0</td>\n",
       "    </tr>\n",
       "    <tr>\n",
       "      <th>4</th>\n",
       "      <td>4</td>\n",
       "      <td>WATCH: REMEMBER WHEN HILLARY SAID She WasnÕt D...</td>\n",
       "      <td>That Hillary, she sure is a forked-tongued sil...</td>\n",
       "      <td>NaN</td>\n",
       "      <td>NYPD-32</td>\n",
       "      <td>WhitePeopleTwitter</td>\n",
       "      <td>1480870334</td>\n",
       "      <td>0.68</td>\n",
       "      <td>21</td>\n",
       "      <td>/r/whitepeopletwitter/comments/5ggakpl/WATCH:_...</td>\n",
       "      <td>https://www.reddit.com/r/whitepeopletwitter/co...</td>\n",
       "      <td>1</td>\n",
       "    </tr>\n",
       "  </tbody>\n",
       "</table>\n",
       "</div>"
      ],
      "text/plain": [
       "   Unnamed: 0                                              title  \\\n",
       "0           0  Family of Armed Robbery Suspect Outraged Pizza...   \n",
       "1           1  Hurricane Irma likely to drop to Category 4 up...   \n",
       "2           2  Factbox: Trump on Twitter (July 26) - U.S. Mil...   \n",
       "3           3  Senior Saudi prince freed in settlement agreem...   \n",
       "4           4  WATCH: REMEMBER WHEN HILLARY SAID She WasnÕt D...   \n",
       "\n",
       "                                          image_text selftext   author  \\\n",
       "0  Following the shooting death of 28-year-old ar...      NaN  NYPD-32   \n",
       "1  (Reuters) - Hurricane Irma is likely to be dow...      NaN  NYPD-32   \n",
       "2  The following statementsÊwere posted to the ve...      NaN  NYPD-32   \n",
       "3  DUBAI (Reuters) - Senior Saudi Prince Miteb bi...      NaN  NYPD-32   \n",
       "4  That Hillary, she sure is a forked-tongued sil...      NaN  NYPD-32   \n",
       "\n",
       "            subreddit  created_utc  upvote_ratio  num_comments  \\\n",
       "0  WhitePeopleTwitter   1480870334          0.68            21   \n",
       "1            fakenews   1480870334          0.67            21   \n",
       "2            fakenews   1480870334          0.67            21   \n",
       "3            fakenews   1480870334          0.68            21   \n",
       "4  WhitePeopleTwitter   1480870334          0.68            21   \n",
       "\n",
       "                                           permalink  \\\n",
       "0  /r/whitepeopletwitter/comments/5ggakpv/Family_...   \n",
       "1  /r/fakenews/comments/5ggakps/Hurricane_Irma_likel   \n",
       "2  /r/fakenews/comments/5ggakpq/Factbox:_Trump_on_Tw   \n",
       "3  /r/fakenews/comments/5ggakpn/Senior_Saudi_prince_   \n",
       "4  /r/whitepeopletwitter/comments/5ggakpl/WATCH:_...   \n",
       "\n",
       "                                                 url  label  \n",
       "0  https://www.reddit.com/r/whitepeopletwitter/co...      1  \n",
       "1  https://www.reddit.com/r/fakenews/comments/5gg...      0  \n",
       "2  https://www.reddit.com/r/fakenews/comments/5gg...      0  \n",
       "3  https://www.reddit.com/r/fakenews/comments/5gg...      0  \n",
       "4  https://www.reddit.com/r/whitepeopletwitter/co...      1  "
      ]
     },
     "execution_count": 72,
     "metadata": {},
     "output_type": "execute_result"
    }
   ],
   "source": [
    "# Raw Data\n",
    "df.head()"
   ]
  },
  {
   "cell_type": "code",
   "execution_count": 73,
   "metadata": {},
   "outputs": [
    {
     "data": {
      "text/plain": [
       "(71537, 12)"
      ]
     },
     "execution_count": 73,
     "metadata": {},
     "output_type": "execute_result"
    }
   ],
   "source": [
    "df.shape"
   ]
  },
  {
   "cell_type": "code",
   "execution_count": 74,
   "metadata": {},
   "outputs": [
    {
     "data": {
      "text/plain": [
       "Unnamed: 0          0\n",
       "title               0\n",
       "image_text        749\n",
       "selftext        53658\n",
       "author              0\n",
       "subreddit           0\n",
       "created_utc         0\n",
       "upvote_ratio        0\n",
       "num_comments        0\n",
       "permalink           0\n",
       "url                 0\n",
       "label               0\n",
       "dtype: int64"
      ]
     },
     "execution_count": 74,
     "metadata": {},
     "output_type": "execute_result"
    }
   ],
   "source": [
    "df.isna().sum()"
   ]
  },
  {
   "cell_type": "code",
   "execution_count": 75,
   "metadata": {},
   "outputs": [],
   "source": [
    "# dropping the null values\n",
    "df.dropna(subset=['image_text'], inplace = True)"
   ]
  },
  {
   "cell_type": "code",
   "execution_count": 76,
   "metadata": {},
   "outputs": [],
   "source": [
    "# concatenating title and image_text\n",
    "df.loc[:, 'concatenated'] = df.title + ' ' + df.image_text"
   ]
  },
  {
   "cell_type": "code",
   "execution_count": 77,
   "metadata": {},
   "outputs": [
    {
     "data": {
      "text/plain": [
       "0        Family of Armed Robbery Suspect Outraged Pizza...\n",
       "1        Hurricane Irma likely to drop to Category 4 up...\n",
       "2        Factbox: Trump on Twitter (July 26) - U.S. Mil...\n",
       "3        Senior Saudi prince freed in settlement agreem...\n",
       "4        WATCH: REMEMBER WHEN HILLARY SAID She WasnÕt D...\n",
       "                               ...                        \n",
       "71532    The Hillary Era is Coming: Worry! Photo by Ven...\n",
       "71533    TurkeyÕs Suspicious Mind-Set Has Been a Centur...\n",
       "71534    This Is What Happens When You Elect Climate Ch...\n",
       "71535    SHOCKING VIDEO Shows How Easily Islamic Terror...\n",
       "71536    CNN HOST And Crybaby Hillary Surrogate Get BRU...\n",
       "Name: concatenated, Length: 70788, dtype: object"
      ]
     },
     "execution_count": 77,
     "metadata": {},
     "output_type": "execute_result"
    }
   ],
   "source": [
    "df.concatenated"
   ]
  },
  {
   "cell_type": "code",
   "execution_count": 78,
   "metadata": {},
   "outputs": [
    {
     "data": {
      "text/plain": [
       "Index(['Unnamed: 0', 'title', 'image_text', 'selftext', 'author', 'subreddit',\n",
       "       'created_utc', 'upvote_ratio', 'num_comments', 'permalink', 'url',\n",
       "       'label', 'concatenated'],\n",
       "      dtype='object')"
      ]
     },
     "execution_count": 78,
     "metadata": {},
     "output_type": "execute_result"
    }
   ],
   "source": [
    "df.columns"
   ]
  },
  {
   "cell_type": "code",
   "execution_count": 79,
   "metadata": {},
   "outputs": [],
   "source": [
    "imp_variables = df[['concatenated', 'label', 'upvote_ratio']]"
   ]
  },
  {
   "cell_type": "code",
   "execution_count": 80,
   "metadata": {},
   "outputs": [
    {
     "data": {
      "text/html": [
       "<div>\n",
       "<style scoped>\n",
       "    .dataframe tbody tr th:only-of-type {\n",
       "        vertical-align: middle;\n",
       "    }\n",
       "\n",
       "    .dataframe tbody tr th {\n",
       "        vertical-align: top;\n",
       "    }\n",
       "\n",
       "    .dataframe thead th {\n",
       "        text-align: right;\n",
       "    }\n",
       "</style>\n",
       "<table border=\"1\" class=\"dataframe\">\n",
       "  <thead>\n",
       "    <tr style=\"text-align: right;\">\n",
       "      <th></th>\n",
       "      <th>concatenated</th>\n",
       "      <th>label</th>\n",
       "      <th>upvote_ratio</th>\n",
       "    </tr>\n",
       "  </thead>\n",
       "  <tbody>\n",
       "    <tr>\n",
       "      <th>0</th>\n",
       "      <td>Family of Armed Robbery Suspect Outraged Pizza...</td>\n",
       "      <td>1</td>\n",
       "      <td>0.68</td>\n",
       "    </tr>\n",
       "    <tr>\n",
       "      <th>1</th>\n",
       "      <td>Hurricane Irma likely to drop to Category 4 up...</td>\n",
       "      <td>0</td>\n",
       "      <td>0.67</td>\n",
       "    </tr>\n",
       "    <tr>\n",
       "      <th>2</th>\n",
       "      <td>Factbox: Trump on Twitter (July 26) - U.S. Mil...</td>\n",
       "      <td>0</td>\n",
       "      <td>0.67</td>\n",
       "    </tr>\n",
       "    <tr>\n",
       "      <th>3</th>\n",
       "      <td>Senior Saudi prince freed in settlement agreem...</td>\n",
       "      <td>0</td>\n",
       "      <td>0.68</td>\n",
       "    </tr>\n",
       "    <tr>\n",
       "      <th>4</th>\n",
       "      <td>WATCH: REMEMBER WHEN HILLARY SAID She WasnÕt D...</td>\n",
       "      <td>1</td>\n",
       "      <td>0.68</td>\n",
       "    </tr>\n",
       "  </tbody>\n",
       "</table>\n",
       "</div>"
      ],
      "text/plain": [
       "                                        concatenated  label  upvote_ratio\n",
       "0  Family of Armed Robbery Suspect Outraged Pizza...      1          0.68\n",
       "1  Hurricane Irma likely to drop to Category 4 up...      0          0.67\n",
       "2  Factbox: Trump on Twitter (July 26) - U.S. Mil...      0          0.67\n",
       "3  Senior Saudi prince freed in settlement agreem...      0          0.68\n",
       "4  WATCH: REMEMBER WHEN HILLARY SAID She WasnÕt D...      1          0.68"
      ]
     },
     "execution_count": 80,
     "metadata": {},
     "output_type": "execute_result"
    }
   ],
   "source": [
    "imp_variables.head()"
   ]
  },
  {
   "cell_type": "code",
   "execution_count": 81,
   "metadata": {},
   "outputs": [
    {
     "name": "stderr",
     "output_type": "stream",
     "text": [
      "/var/folders/ws/tmqw3bw90s1gt_qpctyr0fxw0000gn/T/ipykernel_31719/496236214.py:2: SettingWithCopyWarning: \n",
      "A value is trying to be set on a copy of a slice from a DataFrame.\n",
      "Try using .loc[row_indexer,col_indexer] = value instead\n",
      "\n",
      "See the caveats in the documentation: https://pandas.pydata.org/pandas-docs/stable/user_guide/indexing.html#returning-a-view-versus-a-copy\n",
      "  imp_variables.loc[:, 'no_of_words'] = imp_variables.concatenated.apply(lambda x: x.count(\" \"))\n"
     ]
    }
   ],
   "source": [
    "# Counting the no_of_words in each concatenated column\n",
    "imp_variables.loc[:, 'no_of_words'] = imp_variables.concatenated.apply(lambda x: x.count(\" \"))"
   ]
  },
  {
   "cell_type": "code",
   "execution_count": 82,
   "metadata": {},
   "outputs": [
    {
     "data": {
      "text/plain": [
       "{'\\n',\n",
       " ' ',\n",
       " '!',\n",
       " '(',\n",
       " ')',\n",
       " ',',\n",
       " '-',\n",
       " '.',\n",
       " '0',\n",
       " '1',\n",
       " '2',\n",
       " '3',\n",
       " '4',\n",
       " '5',\n",
       " '6',\n",
       " '7',\n",
       " '8',\n",
       " ':',\n",
       " 'A',\n",
       " 'B',\n",
       " 'C',\n",
       " 'D',\n",
       " 'E',\n",
       " 'F',\n",
       " 'G',\n",
       " 'H',\n",
       " 'I',\n",
       " 'J',\n",
       " 'K',\n",
       " 'L',\n",
       " 'M',\n",
       " 'N',\n",
       " 'O',\n",
       " 'P',\n",
       " 'R',\n",
       " 'S',\n",
       " 'T',\n",
       " 'U',\n",
       " 'V',\n",
       " 'W',\n",
       " 'Y',\n",
       " 'a',\n",
       " 'b',\n",
       " 'c',\n",
       " 'd',\n",
       " 'e',\n",
       " 'f',\n",
       " 'g',\n",
       " 'h',\n",
       " 'i',\n",
       " 'j',\n",
       " 'k',\n",
       " 'l',\n",
       " 'm',\n",
       " 'n',\n",
       " 'o',\n",
       " 'p',\n",
       " 'r',\n",
       " 's',\n",
       " 't',\n",
       " 'u',\n",
       " 'w',\n",
       " 'x',\n",
       " 'y',\n",
       " 'z',\n",
       " 'Õ'}"
      ]
     },
     "execution_count": 82,
     "metadata": {},
     "output_type": "execute_result"
    }
   ],
   "source": [
    "diction = set(str(imp_variables.concatenated))\n",
    "diction"
   ]
  },
  {
   "cell_type": "code",
   "execution_count": 83,
   "metadata": {},
   "outputs": [],
   "source": [
    "# Replacing new line with spaces\n",
    "imp_variables.loc[:, 'concatenated'] = imp_variables.concatenated.apply(lambda x: x.replace(\"\\n\", \" \"))"
   ]
  },
  {
   "cell_type": "code",
   "execution_count": 84,
   "metadata": {},
   "outputs": [
    {
     "data": {
      "text/html": [
       "<div>\n",
       "<style scoped>\n",
       "    .dataframe tbody tr th:only-of-type {\n",
       "        vertical-align: middle;\n",
       "    }\n",
       "\n",
       "    .dataframe tbody tr th {\n",
       "        vertical-align: top;\n",
       "    }\n",
       "\n",
       "    .dataframe thead th {\n",
       "        text-align: right;\n",
       "    }\n",
       "</style>\n",
       "<table border=\"1\" class=\"dataframe\">\n",
       "  <thead>\n",
       "    <tr style=\"text-align: right;\">\n",
       "      <th></th>\n",
       "      <th>concatenated</th>\n",
       "      <th>label</th>\n",
       "      <th>upvote_ratio</th>\n",
       "      <th>no_of_words</th>\n",
       "    </tr>\n",
       "  </thead>\n",
       "  <tbody>\n",
       "    <tr>\n",
       "      <th>0</th>\n",
       "      <td>Family of Armed Robbery Suspect Outraged Pizza...</td>\n",
       "      <td>1</td>\n",
       "      <td>0.68</td>\n",
       "      <td>477</td>\n",
       "    </tr>\n",
       "    <tr>\n",
       "      <th>1</th>\n",
       "      <td>Hurricane Irma likely to drop to Category 4 up...</td>\n",
       "      <td>0</td>\n",
       "      <td>0.67</td>\n",
       "      <td>249</td>\n",
       "    </tr>\n",
       "    <tr>\n",
       "      <th>2</th>\n",
       "      <td>Factbox: Trump on Twitter (July 26) - U.S. Mil...</td>\n",
       "      <td>0</td>\n",
       "      <td>0.67</td>\n",
       "      <td>242</td>\n",
       "    </tr>\n",
       "    <tr>\n",
       "      <th>3</th>\n",
       "      <td>Senior Saudi prince freed in settlement agreem...</td>\n",
       "      <td>0</td>\n",
       "      <td>0.68</td>\n",
       "      <td>85</td>\n",
       "    </tr>\n",
       "    <tr>\n",
       "      <th>4</th>\n",
       "      <td>WATCH: REMEMBER WHEN HILLARY SAID She WasnÕt D...</td>\n",
       "      <td>1</td>\n",
       "      <td>0.68</td>\n",
       "      <td>174</td>\n",
       "    </tr>\n",
       "  </tbody>\n",
       "</table>\n",
       "</div>"
      ],
      "text/plain": [
       "                                        concatenated  label  upvote_ratio  \\\n",
       "0  Family of Armed Robbery Suspect Outraged Pizza...      1          0.68   \n",
       "1  Hurricane Irma likely to drop to Category 4 up...      0          0.67   \n",
       "2  Factbox: Trump on Twitter (July 26) - U.S. Mil...      0          0.67   \n",
       "3  Senior Saudi prince freed in settlement agreem...      0          0.68   \n",
       "4  WATCH: REMEMBER WHEN HILLARY SAID She WasnÕt D...      1          0.68   \n",
       "\n",
       "   no_of_words  \n",
       "0          477  \n",
       "1          249  \n",
       "2          242  \n",
       "3           85  \n",
       "4          174  "
      ]
     },
     "execution_count": 84,
     "metadata": {},
     "output_type": "execute_result"
    }
   ],
   "source": [
    "imp_variables.head()"
   ]
  },
  {
   "cell_type": "code",
   "execution_count": 85,
   "metadata": {},
   "outputs": [],
   "source": [
    "import re\n",
    "\n",
    "def preProcess(input_string):\n",
    "    # Define a regular expression pattern for matching text inside square brackets\n",
    "    pattern1 = re.compile(r'\\[.*?\\]')\n",
    "    # Define a regular expression pattern for removing special characters\n",
    "    pattern2 = re.compile(r'[^A-Za-z0-9\\s]')\n",
    "    \n",
    "    # Use sub() function to replace the matched pattern with an empty string\n",
    "    brackettext_remove = re.sub(pattern1, '', input_string)\n",
    "\n",
    "    # strip spaces from start and end\n",
    "    stripped = brackettext_remove.strip()\n",
    "\n",
    "    # convert the string to lower\n",
    "    to_lower = stripped.lower()\n",
    "\n",
    "    # remove special characters from the string\n",
    "    final_text = re.sub(pattern2, '', to_lower)\n",
    "    \n",
    "    return final_text\n",
    "\n",
    "imp_variables.loc[:, 'concatenated'] = imp_variables.concatenated.apply(preProcess)"
   ]
  },
  {
   "cell_type": "code",
   "execution_count": 86,
   "metadata": {},
   "outputs": [
    {
     "data": {
      "text/html": [
       "<div>\n",
       "<style scoped>\n",
       "    .dataframe tbody tr th:only-of-type {\n",
       "        vertical-align: middle;\n",
       "    }\n",
       "\n",
       "    .dataframe tbody tr th {\n",
       "        vertical-align: top;\n",
       "    }\n",
       "\n",
       "    .dataframe thead th {\n",
       "        text-align: right;\n",
       "    }\n",
       "</style>\n",
       "<table border=\"1\" class=\"dataframe\">\n",
       "  <thead>\n",
       "    <tr style=\"text-align: right;\">\n",
       "      <th></th>\n",
       "      <th>concatenated</th>\n",
       "      <th>label</th>\n",
       "      <th>upvote_ratio</th>\n",
       "      <th>no_of_words</th>\n",
       "    </tr>\n",
       "  </thead>\n",
       "  <tbody>\n",
       "    <tr>\n",
       "      <th>0</th>\n",
       "      <td>family of armed robbery suspect outraged pizza...</td>\n",
       "      <td>1</td>\n",
       "      <td>0.68</td>\n",
       "      <td>477</td>\n",
       "    </tr>\n",
       "    <tr>\n",
       "      <th>1</th>\n",
       "      <td>hurricane irma likely to drop to category 4 up...</td>\n",
       "      <td>0</td>\n",
       "      <td>0.67</td>\n",
       "      <td>249</td>\n",
       "    </tr>\n",
       "    <tr>\n",
       "      <th>2</th>\n",
       "      <td>factbox trump on twitter july 26  us military ...</td>\n",
       "      <td>0</td>\n",
       "      <td>0.67</td>\n",
       "      <td>242</td>\n",
       "    </tr>\n",
       "    <tr>\n",
       "      <th>3</th>\n",
       "      <td>senior saudi prince freed in settlement agreem...</td>\n",
       "      <td>0</td>\n",
       "      <td>0.68</td>\n",
       "      <td>85</td>\n",
       "    </tr>\n",
       "    <tr>\n",
       "      <th>4</th>\n",
       "      <td>watch remember when hillary said she wasnt dro...</td>\n",
       "      <td>1</td>\n",
       "      <td>0.68</td>\n",
       "      <td>174</td>\n",
       "    </tr>\n",
       "  </tbody>\n",
       "</table>\n",
       "</div>"
      ],
      "text/plain": [
       "                                        concatenated  label  upvote_ratio  \\\n",
       "0  family of armed robbery suspect outraged pizza...      1          0.68   \n",
       "1  hurricane irma likely to drop to category 4 up...      0          0.67   \n",
       "2  factbox trump on twitter july 26  us military ...      0          0.67   \n",
       "3  senior saudi prince freed in settlement agreem...      0          0.68   \n",
       "4  watch remember when hillary said she wasnt dro...      1          0.68   \n",
       "\n",
       "   no_of_words  \n",
       "0          477  \n",
       "1          249  \n",
       "2          242  \n",
       "3           85  \n",
       "4          174  "
      ]
     },
     "execution_count": 86,
     "metadata": {},
     "output_type": "execute_result"
    }
   ],
   "source": [
    "# After PreProcessing\n",
    "imp_variables.head()"
   ]
  },
  {
   "cell_type": "code",
   "execution_count": 87,
   "metadata": {},
   "outputs": [
    {
     "data": {
      "image/png": "[encoded data removed]",
      "text/plain": [
       "<Figure size 640x480 with 1 Axes>"
      ]
     },
     "metadata": {},
     "output_type": "display_data"
    }
   ],
   "source": [
    "import matplotlib.pyplot as plt\n",
    "\n",
    "plt.boxplot(imp_variables.no_of_words)\n",
    "plt.show()"
   ]
  },
  {
   "cell_type": "code",
   "execution_count": 88,
   "metadata": {},
   "outputs": [
    {
     "name": "stderr",
     "output_type": "stream",
     "text": [
      "/var/folders/ws/tmqw3bw90s1gt_qpctyr0fxw0000gn/T/ipykernel_31719/3511410649.py:24: SettingWithCopyWarning: \n",
      "A value is trying to be set on a copy of a slice from a DataFrame.\n",
      "Try using .loc[row_indexer,col_indexer] = value instead\n",
      "\n",
      "See the caveats in the documentation: https://pandas.pydata.org/pandas-docs/stable/user_guide/indexing.html#returning-a-view-versus-a-copy\n",
      "  imp_variables.loc[:, 'processed_text'] = imp_variables['concatenated'].map(transform_text)\n"
     ]
    }
   ],
   "source": [
    "import pandas as pd\n",
    "import nltk\n",
    "from sklearn.feature_extraction.text import CountVectorizer, TfidfVectorizer\n",
    "from nltk.stem import PorterStemmer\n",
    "from nltk.tokenize import word_tokenize\n",
    "from nltk.corpus import stopwords\n",
    "import gensim.downloader as api\n",
    "import spacy\n",
    "\n",
    "def transform_text(text):\n",
    "    # Tokenization\n",
    "    tokens = word_tokenize(text)\n",
    "\n",
    "    # Remove stop words\n",
    "    stop_words = set(stopwords.words('english'))\n",
    "    tokens = [word for word in tokens if word.lower() not in stop_words]\n",
    "\n",
    "    # Stemming\n",
    "    stemmer = PorterStemmer()\n",
    "    tokens = [stemmer.stem(word) for word in tokens]\n",
    "\n",
    "    return \" \".join(tokens)\n",
    "\n",
    "imp_variables.loc[:, 'processed_text'] = imp_variables['concatenated'].map(transform_text)"
   ]
  },
  {
   "cell_type": "code",
   "execution_count": 89,
   "metadata": {},
   "outputs": [
    {
     "data": {
      "text/html": [
       "<div>\n",
       "<style scoped>\n",
       "    .dataframe tbody tr th:only-of-type {\n",
       "        vertical-align: middle;\n",
       "    }\n",
       "\n",
       "    .dataframe tbody tr th {\n",
       "        vertical-align: top;\n",
       "    }\n",
       "\n",
       "    .dataframe thead th {\n",
       "        text-align: right;\n",
       "    }\n",
       "</style>\n",
       "<table border=\"1\" class=\"dataframe\">\n",
       "  <thead>\n",
       "    <tr style=\"text-align: right;\">\n",
       "      <th></th>\n",
       "      <th>concatenated</th>\n",
       "      <th>label</th>\n",
       "      <th>upvote_ratio</th>\n",
       "      <th>no_of_words</th>\n",
       "      <th>processed_text</th>\n",
       "    </tr>\n",
       "  </thead>\n",
       "  <tbody>\n",
       "    <tr>\n",
       "      <th>0</th>\n",
       "      <td>family of armed robbery suspect outraged pizza...</td>\n",
       "      <td>1</td>\n",
       "      <td>0.68</td>\n",
       "      <td>477</td>\n",
       "      <td>famili arm robberi suspect outrag pizza hut em...</td>\n",
       "    </tr>\n",
       "    <tr>\n",
       "      <th>1</th>\n",
       "      <td>hurricane irma likely to drop to category 4 up...</td>\n",
       "      <td>0</td>\n",
       "      <td>0.67</td>\n",
       "      <td>249</td>\n",
       "      <td>hurrican irma like drop categori 4 upon landfa...</td>\n",
       "    </tr>\n",
       "    <tr>\n",
       "      <th>2</th>\n",
       "      <td>factbox trump on twitter july 26  us military ...</td>\n",
       "      <td>0</td>\n",
       "      <td>0.67</td>\n",
       "      <td>242</td>\n",
       "      <td>factbox trump twitter juli 26 us militari tran...</td>\n",
       "    </tr>\n",
       "    <tr>\n",
       "      <th>3</th>\n",
       "      <td>senior saudi prince freed in settlement agreem...</td>\n",
       "      <td>0</td>\n",
       "      <td>0.68</td>\n",
       "      <td>85</td>\n",
       "      <td>senior saudi princ freed settlement agreement ...</td>\n",
       "    </tr>\n",
       "    <tr>\n",
       "      <th>4</th>\n",
       "      <td>watch remember when hillary said she wasnt dro...</td>\n",
       "      <td>1</td>\n",
       "      <td>0.68</td>\n",
       "      <td>174</td>\n",
       "      <td>watch rememb hillari said wasnt drop 2008 prim...</td>\n",
       "    </tr>\n",
       "  </tbody>\n",
       "</table>\n",
       "</div>"
      ],
      "text/plain": [
       "                                        concatenated  label  upvote_ratio  \\\n",
       "0  family of armed robbery suspect outraged pizza...      1          0.68   \n",
       "1  hurricane irma likely to drop to category 4 up...      0          0.67   \n",
       "2  factbox trump on twitter july 26  us military ...      0          0.67   \n",
       "3  senior saudi prince freed in settlement agreem...      0          0.68   \n",
       "4  watch remember when hillary said she wasnt dro...      1          0.68   \n",
       "\n",
       "   no_of_words                                     processed_text  \n",
       "0          477  famili arm robberi suspect outrag pizza hut em...  \n",
       "1          249  hurrican irma like drop categori 4 upon landfa...  \n",
       "2          242  factbox trump twitter juli 26 us militari tran...  \n",
       "3           85  senior saudi princ freed settlement agreement ...  \n",
       "4          174  watch rememb hillari said wasnt drop 2008 prim...  "
      ]
     },
     "execution_count": 89,
     "metadata": {},
     "output_type": "execute_result"
    }
   ],
   "source": [
    "# After Transformation\n",
    "imp_variables.head()"
   ]
  },
  {
   "cell_type": "markdown",
   "metadata": {},
   "source": [
    "'hurricane irma likely to drop to category 4 upon landfall in florida nhc reuters  hurricane irma is likely to be downgraded to a category 4 storm by the time it makes landfall in florida the us national hurricane center said on thursday irma at present a category 5 storm packing maximum sustained winds of 180 miles 285 km per hour is moving off the northern coast of the dominican republic the nhc said   it has become a little less organized over the past few hours but the threat of direct hurricane impacts in florida over the weekend and early next week continues to increase it said hurricane watches were in effect for the northwestern bahamas and much of cuba irma one of the most powerful atlantic storms in a century killed eight people on the caribbean island of saint martin and left barbuda devastated on thursday meanwhile a hurricane swirling in the gulf of mexico katia which is about 195 miles 310 km northeast of veracruz with maximum sustained winds of 80 miles per hour 130 km per hour is likely to gain near major hurricane strength by landfall the nhc said a third hurricane in the atlantic jose has strengthened slightly and is expected to intensify further over the next 48 hours it added hurricane jose is about 815 miles 1310 km east of the lesser antilles with maximum sustained winds of 90 miles per hour 150 km per hour the miamibased weather forecaster said'"
   ]
  },
  {
   "cell_type": "markdown",
   "metadata": {},
   "source": [
    "'hurricane irma likely to drop to category 4 upon landfall in florida nhc reuters  hurricane irma is likely to be downgraded to a category 4 storm by the time it makes landfall in florida the us national hurricane center said on thursday irma at present a category 5 storm packing maximum sustained winds of 180 miles 285 km per hour is moving off the northern coast of the dominican republic the nhc said   it has become a little less organized over the past few hours but the threat of direct hurricane impacts in florida over the weekend and early next week continues to increase it said hurricane watches were in effect for the northwestern bahamas and much of cuba irma one of the most powerful atlantic storms in a century killed eight people on the caribbean island of saint martin and left barbuda devastated on thursday meanwhile a hurricane swirling in the gulf of mexico katia which is about 195 miles 310 km northeast of veracruz with maximum sustained winds of 80 miles per hour 130 km per hour is likely to gain near major hurricane strength by landfall the nhc said a third hurricane in the atlantic jose has strengthened slightly and is expected to intensify further over the next 48 hours it added hurricane jose is about 815 miles 1310 km east of the lesser antilles with maximum sustained winds of 90 miles per hour 150 km per hour the miamibased weather forecaster said'"
   ]
  },
  {
   "cell_type": "code",
   "execution_count": 90,
   "metadata": {},
   "outputs": [],
   "source": [
    "from sklearn.model_selection import train_test_split\n",
    "\n",
    "# Split the data into train, and test sets (80-20)\n",
    "X_train, X_test, y_train, y_test = train_test_split(imp_variables.processed_text, imp_variables.label, test_size=0.2, random_state=42)"
   ]
  },
  {
   "cell_type": "code",
   "execution_count": 91,
   "metadata": {},
   "outputs": [],
   "source": [
    "import time\n",
    "from sklearn.pipeline import Pipeline\n",
    "from sklearn.pipeline import make_pipeline\n",
    "from sklearn.model_selection import GridSearchCV\n",
    "from sklearn.metrics import make_scorer\n",
    "from sklearn.metrics import classification_report, confusion_matrix,f1_score, accuracy_score\n",
    "\n",
    "from sklearn.svm import SVC\n",
    "from sklearn.linear_model import LogisticRegression\n",
    "from sklearn.ensemble import RandomForestClassifier\n",
    "from sklearn.tree import DecisionTreeClassifier\n",
    "\n",
    "import pickle"
   ]
  },
  {
   "cell_type": "code",
   "execution_count": 92,
   "metadata": {},
   "outputs": [],
   "source": [
    "# Count Vectorization \n",
    "count_vectorizer = CountVectorizer(max_features=5000)\n",
    "count_vectorizer.fit(imp_variables['processed_text'])\n",
    "\n",
    "X_train_count_matrix = count_vectorizer.transform(X_train)\n",
    "# X_val_count_matrix = count_vectorizer.transform(X_val)\n",
    "X_test_count_matrix = count_vectorizer.transform(X_test)\n",
    "\n",
    "# TF-IDF Vectorization\n",
    "tfidf_vectorizer = TfidfVectorizer(max_features=5000)\n",
    "tfidf_vectorizer.fit(imp_variables['processed_text'])\n",
    "\n",
    "X_train_tfidf_matrix = tfidf_vectorizer.transform(X_train)\n",
    "# X_val_tfidf_matrix = tfidf_vectorizer.transform(X_val)\n",
    "X_test_tfidf_matrix = tfidf_vectorizer.transform(X_test)"
   ]
  },
  {
   "cell_type": "code",
   "execution_count": 93,
   "metadata": {},
   "outputs": [],
   "source": [
    "save_models_path = 'pickles/'\n",
    "# version = str(round(time.time(), 0))"
   ]
  },
  {
   "cell_type": "code",
   "execution_count": 94,
   "metadata": {},
   "outputs": [],
   "source": [
    "import seaborn as sns\n",
    "\n",
    "def evaluateModel(predictions):\n",
    "    # Evaluate the model\n",
    "    accuracy = accuracy_score(y_test, predictions)\n",
    "    classification_rep = classification_report(y_test, predictions)\n",
    "    conf_matrix = confusion_matrix(y_test, predictions)\n",
    "\n",
    "    # Display evaluation metrics\n",
    "    print(\"Accuracy:\", accuracy)\n",
    "    print(\"\\nClassification Report:\\n\", classification_rep)\n",
    "    print(\"\\nConfusion Matrix:\\n\", conf_matrix)\n",
    "    sns.heatmap(conf_matrix/np.sum(conf_matrix), annot=True, fmt='.2%', cmap='Blues')"
   ]
  },
  {
   "cell_type": "code",
   "execution_count": 95,
   "metadata": {},
   "outputs": [
    {
     "data": {
      "text/plain": [
       "(56630, 5000)"
      ]
     },
     "execution_count": 95,
     "metadata": {},
     "output_type": "execute_result"
    }
   ],
   "source": [
    "X_train_count_matrix.get_shape()"
   ]
  },
  {
   "cell_type": "markdown",
   "metadata": {},
   "source": [
    "### SVM"
   ]
  },
  {
   "cell_type": "code",
   "execution_count": 106,
   "metadata": {},
   "outputs": [
    {
     "name": "stdout",
     "output_type": "stream",
     "text": [
      "Accuracy: 0.9427178980081933\n",
      "\n",
      "Classification Report:\n",
      "               precision    recall  f1-score   support\n",
      "\n",
      "           0       0.95      0.94      0.94      7098\n",
      "           1       0.94      0.95      0.94      7060\n",
      "\n",
      "    accuracy                           0.94     14158\n",
      "   macro avg       0.94      0.94      0.94     14158\n",
      "weighted avg       0.94      0.94      0.94     14158\n",
      "\n",
      "\n",
      "Confusion Matrix:\n",
      " [[6642  456]\n",
      " [ 355 6705]]\n"
     ]
    },
    {
     "data": {
      "image/png": "[encoded data removed]",
      "text/plain": [
       "<Figure size 640x480 with 2 Axes>"
      ]
     },
     "metadata": {},
     "output_type": "display_data"
    }
   ],
   "source": [
    "model_name = 'CountVectorizerSVM.pkl'\n",
    "\n",
    "# Create an SVM model\n",
    "cm_svm_model = SVC(kernel='linear', random_state=42)\n",
    "\n",
    "# Train the model\n",
    "cm_svm_model.fit(X_train_count_matrix, y_train)\n",
    "\n",
    "# Make predictions on the test set\n",
    "cm_svm_predictions = cm_svm_model.predict(X_test_count_matrix)\n",
    "\n",
    "evaluateModel(cm_svm_predictions)\n",
    "\n",
    "pickle.dump(cm_svm_model, open(save_models_path+model_name,'wb'))"
   ]
  },
  {
   "cell_type": "code",
   "execution_count": 97,
   "metadata": {},
   "outputs": [
    {
     "name": "stdout",
     "output_type": "stream",
     "text": [
      "Accuracy: 0.9559966096906343\n",
      "\n",
      "Classification Report:\n",
      "               precision    recall  f1-score   support\n",
      "\n",
      "           0       0.96      0.95      0.96      7098\n",
      "           1       0.95      0.96      0.96      7060\n",
      "\n",
      "    accuracy                           0.96     14158\n",
      "   macro avg       0.96      0.96      0.96     14158\n",
      "weighted avg       0.96      0.96      0.96     14158\n",
      "\n",
      "\n",
      "Confusion Matrix:\n",
      " [[6752  346]\n",
      " [ 277 6783]]\n"
     ]
    },
    {
     "data": {
      "image/png": "[encoded data removed]",
      "text/plain": [
       "<Figure size 640x480 with 2 Axes>"
      ]
     },
     "metadata": {},
     "output_type": "display_data"
    }
   ],
   "source": [
    "model_name = 'TfIDFVectorizerSVM.pkl'\n",
    "\n",
    "# Create an SVM model\n",
    "tm_svm_model = SVC(kernel='linear', random_state=42)\n",
    "\n",
    "# Train the model\n",
    "tm_svm_model.fit(X_train_tfidf_matrix, y_train)\n",
    "\n",
    "# Make predictions on the test set\n",
    "tm_svm_predictions = tm_svm_model.predict(X_test_tfidf_matrix)\n",
    "\n",
    "evaluateModel(tm_svm_predictions)\n",
    "\n",
    "pickle.dump(tm_svm_model, open(save_models_path+model_name,'wb'))"
   ]
  },
  {
   "cell_type": "markdown",
   "metadata": {},
   "source": [
    "### LogisticRegression"
   ]
  },
  {
   "cell_type": "code",
   "execution_count": 98,
   "metadata": {},
   "outputs": [
    {
     "name": "stdout",
     "output_type": "stream",
     "text": [
      "Accuracy: 0.9492866224042944\n",
      "\n",
      "Classification Report:\n",
      "               precision    recall  f1-score   support\n",
      "\n",
      "           0       0.95      0.94      0.95      7098\n",
      "           1       0.94      0.95      0.95      7060\n",
      "\n",
      "    accuracy                           0.95     14158\n",
      "   macro avg       0.95      0.95      0.95     14158\n",
      "weighted avg       0.95      0.95      0.95     14158\n",
      "\n",
      "\n",
      "Confusion Matrix:\n",
      " [[6702  396]\n",
      " [ 322 6738]]\n"
     ]
    },
    {
     "name": "stderr",
     "output_type": "stream",
     "text": [
      "/Users/reddy/opt/anaconda3/envs/reddit/lib/python3.9/site-packages/sklearn/linear_model/_logistic.py:460: ConvergenceWarning: lbfgs failed to converge (status=1):\n",
      "STOP: TOTAL NO. of ITERATIONS REACHED LIMIT.\n",
      "\n",
      "Increase the number of iterations (max_iter) or scale the data as shown in:\n",
      "    https://scikit-learn.org/stable/modules/preprocessing.html\n",
      "Please also refer to the documentation for alternative solver options:\n",
      "    https://scikit-learn.org/stable/modules/linear_model.html#logistic-regression\n",
      "  n_iter_i = _check_optimize_result(\n"
     ]
    },
    {
     "data": {
      "image/png": "[encoded data removed]",
      "text/plain": [
       "<Figure size 640x480 with 2 Axes>"
      ]
     },
     "metadata": {},
     "output_type": "display_data"
    }
   ],
   "source": [
    "model_name = 'CountVectorizerLR.pkl'\n",
    "\n",
    "# Create a Logistic Regression model\n",
    "cm_logistic_model = LogisticRegression(random_state=42)\n",
    "\n",
    "# Train the model\n",
    "cm_logistic_model.fit(X_train_count_matrix, y_train)\n",
    "# Make predictions on the test set\n",
    "cm_log_predictions = cm_logistic_model.predict(X_test_count_matrix)\n",
    "\n",
    "evaluateModel(cm_log_predictions)\n",
    "\n",
    "pickle.dump(cm_logistic_model, open(save_models_path+model_name,'wb'))"
   ]
  },
  {
   "cell_type": "code",
   "execution_count": 99,
   "metadata": {},
   "outputs": [
    {
     "name": "stdout",
     "output_type": "stream",
     "text": [
      "Accuracy: 0.9468851532702359\n",
      "\n",
      "Classification Report:\n",
      "               precision    recall  f1-score   support\n",
      "\n",
      "           0       0.95      0.94      0.95      7098\n",
      "           1       0.94      0.95      0.95      7060\n",
      "\n",
      "    accuracy                           0.95     14158\n",
      "   macro avg       0.95      0.95      0.95     14158\n",
      "weighted avg       0.95      0.95      0.95     14158\n",
      "\n",
      "\n",
      "Confusion Matrix:\n",
      " [[6684  414]\n",
      " [ 338 6722]]\n"
     ]
    },
    {
     "data": {
      "image/png": "[encoded data removed]",
      "text/plain": [
       "<Figure size 640x480 with 2 Axes>"
      ]
     },
     "metadata": {},
     "output_type": "display_data"
    }
   ],
   "source": [
    "model_name = 'TfIDFVectorizerLR.pkl'\n",
    "\n",
    "# Create a Logistic Regression model\n",
    "tm_logistic_model = LogisticRegression(random_state=42)\n",
    "\n",
    "# Train the model\n",
    "tm_logistic_model.fit(X_train_tfidf_matrix, y_train)\n",
    "\n",
    "# Make predictions on the test set\n",
    "tm_log_predictions = tm_logistic_model.predict(X_test_tfidf_matrix)\n",
    "evaluateModel(tm_log_predictions)\n",
    "\n",
    "pickle.dump(tm_logistic_model, open(save_models_path+model_name,'wb'))"
   ]
  },
  {
   "cell_type": "markdown",
   "metadata": {},
   "source": [
    "### Decision Tree"
   ]
  },
  {
   "cell_type": "code",
   "execution_count": 100,
   "metadata": {},
   "outputs": [
    {
     "name": "stdout",
     "output_type": "stream",
     "text": [
      "Accuracy: 0.935937279276734\n",
      "\n",
      "Classification Report:\n",
      "               precision    recall  f1-score   support\n",
      "\n",
      "           0       0.95      0.92      0.94      7098\n",
      "           1       0.93      0.95      0.94      7060\n",
      "\n",
      "    accuracy                           0.94     14158\n",
      "   macro avg       0.94      0.94      0.94     14158\n",
      "weighted avg       0.94      0.94      0.94     14158\n",
      "\n",
      "\n",
      "Confusion Matrix:\n",
      " [[6561  537]\n",
      " [ 370 6690]]\n"
     ]
    },
    {
     "data": {
      "image/png": "[encoded data removed]",
      "text/plain": [
       "<Figure size 640x480 with 2 Axes>"
      ]
     },
     "metadata": {},
     "output_type": "display_data"
    }
   ],
   "source": [
    "model_name = 'CountVectorizeDT.pkl'\n",
    "\n",
    "cm_dt_model = DecisionTreeClassifier(random_state=42)\n",
    "cm_dt_model.fit(X_train_count_matrix, y_train)\n",
    "cm_dt_predictions = cm_dt_model.predict(X_test_count_matrix)\n",
    "\n",
    "evaluateModel(cm_dt_predictions)\n",
    "\n",
    "pickle.dump(cm_dt_model, open(save_models_path+model_name,'wb'))"
   ]
  },
  {
   "cell_type": "code",
   "execution_count": 101,
   "metadata": {},
   "outputs": [
    {
     "name": "stdout",
     "output_type": "stream",
     "text": [
      "Accuracy: 0.6472665630738805\n",
      "\n",
      "Classification Report:\n",
      "               precision    recall  f1-score   support\n",
      "\n",
      "           0       0.64      0.67      0.66      7098\n",
      "           1       0.65      0.62      0.64      7060\n",
      "\n",
      "    accuracy                           0.65     14158\n",
      "   macro avg       0.65      0.65      0.65     14158\n",
      "weighted avg       0.65      0.65      0.65     14158\n",
      "\n",
      "\n",
      "Confusion Matrix:\n",
      " [[4776 2322]\n",
      " [2672 4388]]\n"
     ]
    },
    {
     "data": {
      "image/png": "[encoded data removed]",
      "text/plain": [
       "<Figure size 640x480 with 2 Axes>"
      ]
     },
     "metadata": {},
     "output_type": "display_data"
    }
   ],
   "source": [
    "model_name = 'TfidfVectorizeDT.pkl'\n",
    "\n",
    "tm_dt_model = DecisionTreeClassifier(random_state=42)\n",
    "tm_dt_model.fit(X_train_tfidf_matrix, y_train)\n",
    "tm_dt_predictions = tm_dt_model.predict(X_test_tfidf_matrix)\n",
    "\n",
    "evaluateModel(tm_dt_predictions)\n",
    "\n",
    "pickle.dump(tm_dt_model, open(save_models_path+model_name,'wb'))"
   ]
  },
  {
   "cell_type": "markdown",
   "metadata": {},
   "source": [
    "### Random Forest"
   ]
  },
  {
   "cell_type": "code",
   "execution_count": 102,
   "metadata": {},
   "outputs": [
    {
     "name": "stdout",
     "output_type": "stream",
     "text": [
      "Accuracy: 0.9583980788246927\n",
      "\n",
      "Classification Report:\n",
      "               precision    recall  f1-score   support\n",
      "\n",
      "           0       0.97      0.95      0.96      7098\n",
      "           1       0.95      0.97      0.96      7060\n",
      "\n",
      "    accuracy                           0.96     14158\n",
      "   macro avg       0.96      0.96      0.96     14158\n",
      "weighted avg       0.96      0.96      0.96     14158\n",
      "\n",
      "\n",
      "Confusion Matrix:\n",
      " [[6746  352]\n",
      " [ 237 6823]]\n"
     ]
    },
    {
     "data": {
      "image/png": "[encoded data removed]",
      "text/plain": [
       "<Figure size 640x480 with 2 Axes>"
      ]
     },
     "metadata": {},
     "output_type": "display_data"
    }
   ],
   "source": [
    "model_name = 'CountVectorizerRF.pkl'\n",
    "\n",
    "cm_rf_model = RandomForestClassifier(n_estimators=100, random_state=42)\n",
    "cm_rf_model.fit(X_train_count_matrix, y_train)\n",
    "cm_rf_predictions = cm_rf_model.predict(X_test_count_matrix)\n",
    "\n",
    "evaluateModel(cm_rf_predictions)\n",
    "\n",
    "pickle.dump(cm_rf_model, open(save_models_path+model_name,'wb'))\n"
   ]
  },
  {
   "cell_type": "code",
   "execution_count": 103,
   "metadata": {},
   "outputs": [
    {
     "name": "stdout",
     "output_type": "stream",
     "text": [
      "Accuracy: 0.9574092385930216\n",
      "\n",
      "Classification Report:\n",
      "               precision    recall  f1-score   support\n",
      "\n",
      "           0       0.97      0.94      0.96      7098\n",
      "           1       0.95      0.97      0.96      7060\n",
      "\n",
      "    accuracy                           0.96     14158\n",
      "   macro avg       0.96      0.96      0.96     14158\n",
      "weighted avg       0.96      0.96      0.96     14158\n",
      "\n",
      "\n",
      "Confusion Matrix:\n",
      " [[6706  392]\n",
      " [ 211 6849]]\n"
     ]
    },
    {
     "data": {
      "image/png": "[encoded data removed]",
      "text/plain": [
       "<Figure size 640x480 with 2 Axes>"
      ]
     },
     "metadata": {},
     "output_type": "display_data"
    }
   ],
   "source": [
    "model_name = 'TfidfVectorizerRF.pkl'\n",
    "\n",
    "tm_rf_model = RandomForestClassifier(n_estimators=100, random_state=42)\n",
    "tm_rf_model.fit(X_train_tfidf_matrix, y_train)\n",
    "tm_rf_predictions = tm_rf_model.predict(X_test_tfidf_matrix)\n",
    "\n",
    "evaluateModel(tm_rf_predictions)\n",
    "\n",
    "pickle.dump(tm_rf_model, open(save_models_path+model_name,'wb'))\n"
   ]
  },
  {
   "cell_type": "markdown",
   "metadata": {},
   "source": [
    "### Naive Bayes"
   ]
  },
  {
   "cell_type": "code",
   "execution_count": 104,
   "metadata": {},
   "outputs": [
    {
     "name": "stdout",
     "output_type": "stream",
     "text": [
      "Accuracy: 0.8228563356406272\n",
      "\n",
      "Classification Report:\n",
      "               precision    recall  f1-score   support\n",
      "\n",
      "           0       0.85      0.78      0.82      7098\n",
      "           1       0.80      0.86      0.83      7060\n",
      "\n",
      "    accuracy                           0.82     14158\n",
      "   macro avg       0.83      0.82      0.82     14158\n",
      "weighted avg       0.83      0.82      0.82     14158\n",
      "\n",
      "\n",
      "Confusion Matrix:\n",
      " [[5554 1544]\n",
      " [ 964 6096]]\n"
     ]
    },
    {
     "data": {
      "image/png": "[encoded data removed]",
      "text/plain": [
       "<Figure size 640x480 with 2 Axes>"
      ]
     },
     "metadata": {},
     "output_type": "display_data"
    }
   ],
   "source": [
    "from sklearn.naive_bayes import GaussianNB\n",
    "\n",
    "model_name = 'CountVectorizerNB.pkl'\n",
    "\n",
    "cm_nb_model = GaussianNB()\n",
    "\n",
    "cm_nb_model.fit(X_train_count_matrix.toarray(), y_train)\n",
    "cm_nb_predictions = cm_nb_model.predict(X_test_count_matrix.toarray())\n",
    "\n",
    "evaluateModel(cm_nb_predictions)\n",
    "\n",
    "pickle.dump(cm_nb_model, open(save_models_path+model_name,'wb'))"
   ]
  },
  {
   "cell_type": "code",
   "execution_count": 105,
   "metadata": {},
   "outputs": [
    {
     "name": "stdout",
     "output_type": "stream",
     "text": [
      "Accuracy: 0.8345105240853228\n",
      "\n",
      "Classification Report:\n",
      "               precision    recall  f1-score   support\n",
      "\n",
      "           0       0.84      0.83      0.83      7098\n",
      "           1       0.83      0.84      0.84      7060\n",
      "\n",
      "    accuracy                           0.83     14158\n",
      "   macro avg       0.83      0.83      0.83     14158\n",
      "weighted avg       0.83      0.83      0.83     14158\n",
      "\n",
      "\n",
      "Confusion Matrix:\n",
      " [[5864 1234]\n",
      " [1109 5951]]\n"
     ]
    },
    {
     "data": {
      "image/png": "[encoded data removed]",
      "text/plain": [
       "<Figure size 640x480 with 2 Axes>"
      ]
     },
     "metadata": {},
     "output_type": "display_data"
    }
   ],
   "source": [
    "model_name = 'TfidfVectorizerNB.pkl'\n",
    "\n",
    "tm_nb_model = GaussianNB()\n",
    "\n",
    "tm_nb_model.fit(X_train_tfidf_matrix.toarray(), y_train)\n",
    "tm_nb_predictions = tm_nb_model.predict(X_test_tfidf_matrix.toarray())\n",
    "\n",
    "evaluateModel(tm_nb_predictions)\n",
    "\n",
    "pickle.dump(tm_nb_model, open(save_models_path+model_name,'wb'))"
   ]
  }
 ],
 "metadata": {
  "kernelspec": {
   "display_name": "Python 3 (ipykernel)",
   "language": "python",
   "name": "python3"
  },
  "language_info": {
   "codemirror_mode": {
    "name": "ipython",
    "version": 3
   },
   "file_extension": ".py",
   "mimetype": "text/x-python",
   "name": "python",
   "nbconvert_exporter": "python",
   "pygments_lexer": "ipython3",
   "version": "3.9.18"
  }
 },
 "nbformat": 4,
 "nbformat_minor": 2
}
